{
 "cells": [
  {
   "cell_type": "markdown",
   "metadata": {},
   "source": [
    "# 1. Import Dependencies"
   ]
  },
  {
   "cell_type": "code",
   "execution_count": 1,
   "metadata": {},
   "outputs": [
    {
     "name": "stdout",
     "output_type": "stream",
     "text": [
      "Requirement already satisfied: opencv-python in e:\\python\\deep learning\\sign detect\\tfodcourse\\tfod\\lib\\site-packages (4.5.5.62)\n",
      "Requirement already satisfied: numpy>=1.17.3 in e:\\python\\deep learning\\sign detect\\tfodcourse\\tfod\\lib\\site-packages (from opencv-python) (1.22.2)\n"
     ]
    }
   ],
   "source": [
    "!pip install opencv-python"
   ]
  },
  {
   "cell_type": "code",
   "execution_count": 2,
   "metadata": {},
   "outputs": [],
   "source": [
    "# Import opencv\n",
    "import cv2 \n",
    "\n",
    "# Import uuid\n",
    "import uuid\n",
    "\n",
    "# Import Operating System\n",
    "import os\n",
    "\n",
    "# Import time\n",
    "import time"
   ]
  },
  {
   "cell_type": "markdown",
   "metadata": {},
   "source": [
    "# 2. Define Images to Collect"
   ]
  },
  {
   "cell_type": "code",
   "execution_count": 3,
   "metadata": {},
   "outputs": [],
   "source": [
    "labels = ['thumbsup', 'thumbsdown', 'thankyou', 'livelong']\n",
    "# labels = ['thumbsup']\n",
    "number_imgs = 5"
   ]
  },
  {
   "cell_type": "markdown",
   "metadata": {},
   "source": [
    "# 3. Setup Folders "
   ]
  },
  {
   "cell_type": "code",
   "execution_count": 4,
   "metadata": {},
   "outputs": [],
   "source": [
    "IMAGES_PATH = os.path.join('Tensorflow', 'workspace', 'images', 'collectedimages')"
   ]
  },
  {
   "cell_type": "code",
   "execution_count": 6,
   "metadata": {},
   "outputs": [],
   "source": [
    "if not os.path.exists(IMAGES_PATH):\n",
    "    if os.name == 'posix':\n",
    "        !mkdir -p {IMAGES_PATH}\n",
    "    if os.name == 'nt':\n",
    "         !mkdir {IMAGES_PATH}\n",
    "for label in labels:\n",
    "    path = os.path.join(IMAGES_PATH, label)\n",
    "    if not os.path.exists(path):\n",
    "        !mkdir {path}"
   ]
  },
  {
   "cell_type": "markdown",
   "metadata": {},
   "source": [
    "# 4. Capture Images"
   ]
  },
  {
   "cell_type": "code",
   "execution_count": 10,
   "metadata": {},
   "outputs": [
    {
     "name": "stdout",
     "output_type": "stream",
     "text": [
      "Collecting images for thumbsup\n",
      "Collecting image 0\n",
      "Collecting image 1\n",
      "Collecting image 2\n",
      "Collecting image 3\n",
      "Collecting image 4\n"
     ]
    }
   ],
   "source": [
    "for label in labels:\n",
    "    cap = cv2.VideoCapture(0)\n",
    "    print('Collecting images for {}'.format(label))\n",
    "    time.sleep(5)\n",
    "    for imgnum in range(number_imgs):\n",
    "        print('Collecting image {}'.format(imgnum))\n",
    "        ret, frame = cap.read()\n",
    "        imgname = os.path.join(IMAGES_PATH,label,label+'.'+'{}.jpg'.format(str(uuid.uuid1())))\n",
    "        cv2.imwrite(imgname, frame)\n",
    "        cv2.imshow('frame', frame)\n",
    "        time.sleep(2)\n",
    "\n",
    "        if cv2.waitKey(1) & 0xFF == ord('q'):\n",
    "            break\n",
    "cap.release()\n",
    "\n",
    "cv2.destroyAllWindows()"
   ]
  },
  {
   "cell_type": "markdown",
   "metadata": {},
   "source": [
    "# 5. Image Labelling"
   ]
  },
  {
   "cell_type": "code",
   "execution_count": 32,
   "metadata": {},
   "outputs": [
    {
     "name": "stdout",
     "output_type": "stream",
     "text": [
      "Requirement already satisfied: pyqt5 in e:\\python\\deep learning\\sign detect\\tfodcourse\\tfod\\lib\\site-packages (5.15.6)\n",
      "Requirement already satisfied: lxml in e:\\python\\deep learning\\sign detect\\tfodcourse\\tfod\\lib\\site-packages (4.7.1)\n",
      "Requirement already satisfied: PyQt5-Qt5>=5.15.2 in e:\\python\\deep learning\\sign detect\\tfodcourse\\tfod\\lib\\site-packages (from pyqt5) (5.15.2)\n",
      "Requirement already satisfied: PyQt5-sip<13,>=12.8 in e:\\python\\deep learning\\sign detect\\tfodcourse\\tfod\\lib\\site-packages (from pyqt5) (12.9.1)\n"
     ]
    }
   ],
   "source": [
    "!pip install --upgrade pyqt5 lxml"
   ]
  },
  {
   "cell_type": "code",
   "execution_count": 37,
   "metadata": {},
   "outputs": [],
   "source": [
    "LABELIMG_PATH = os.path.join('Tensorflow', 'labelimg')"
   ]
  },
  {
   "cell_type": "code",
   "execution_count": 25,
   "metadata": {},
   "outputs": [
    {
     "name": "stdout",
     "output_type": "stream",
     "text": [
      "Requirement already satisfied: pip in e:\\python\\deep learning\\sign detect\\tfodcourse\\tfod\\lib\\site-packages (21.2.4)\n",
      "Collecting pip\n",
      "  Using cached pip-22.0.3-py3-none-any.whl (2.1 MB)\n",
      "Installing collected packages: pip\n",
      "  Attempting uninstall: pip\n",
      "    Found existing installation: pip 21.2.4\n",
      "    Uninstalling pip-21.2.4:\n",
      "      Successfully uninstalled pip-21.2.4\n",
      "Successfully installed pip-22.0.3\n"
     ]
    }
   ],
   "source": [
    "# !python -m pip install --upgrade pip"
   ]
  },
  {
   "cell_type": "code",
   "execution_count": 42,
   "metadata": {},
   "outputs": [],
   "source": [
    "if not os.path.exists(LABELIMG_PATH):\n",
    "    !mkdir {LABELIMG_PATH}\n",
    "    !git clone https://github.com/tzutalin/labelImg {LABELIMG_PATH}"
   ]
  },
  {
   "cell_type": "code",
   "execution_count": 43,
   "metadata": {},
   "outputs": [],
   "source": [
    "if os.name == 'posix':\n",
    "    !make qt5py3\n",
    "if os.name =='nt':\n",
    "    !cd {LABELIMG_PATH} && pyrcc5 -o libs/resources.py resources.qrc"
   ]
  },
  {
   "cell_type": "code",
   "execution_count": 44,
   "metadata": {},
   "outputs": [
    {
     "name": "stdout",
     "output_type": "stream",
     "text": [
      "Image:E:\\python\\Deep Learning\\sign detect\\TFODCourse\\Tensorflow\\workspace\\images\\collectedimages\\livelong\\livelong.7f096598-8e68-11ec-a20d-f8b156ab036e.jpg -> Annotation:E:/python/Deep Learning/sign detect/TFODCourse/Tensorflow/workspace/images/collectedimages/livelong/livelong.7f096598-8e68-11ec-a20d-f8b156ab036e.xml\n",
      "Image:E:\\python\\Deep Learning\\sign detect\\TFODCourse\\Tensorflow\\workspace\\images\\collectedimages\\livelong\\livelong.8174c36d-8e68-11ec-b680-f8b156ab036e.jpg -> Annotation:E:/python/Deep Learning/sign detect/TFODCourse/Tensorflow/workspace/images/collectedimages/livelong/livelong.8174c36d-8e68-11ec-b680-f8b156ab036e.xml\n",
      "Image:E:\\python\\Deep Learning\\sign detect\\TFODCourse\\Tensorflow\\workspace\\images\\collectedimages\\livelong\\livelong.ad98fa5e-8e68-11ec-acf1-f8b156ab036e.jpg -> Annotation:E:/python/Deep Learning/sign detect/TFODCourse/Tensorflow/workspace/images/collectedimages/livelong/livelong.ad98fa5e-8e68-11ec-acf1-f8b156ab036e.xml\n",
      "Image:E:\\python\\Deep Learning\\sign detect\\TFODCourse\\Tensorflow\\workspace\\images\\collectedimages\\livelong\\livelong.aecd2ca3-8e68-11ec-881e-f8b156ab036e.jpg -> Annotation:E:/python/Deep Learning/sign detect/TFODCourse/Tensorflow/workspace/images/collectedimages/livelong/livelong.aecd2ca3-8e68-11ec-881e-f8b156ab036e.xml\n",
      "Image:E:\\python\\Deep Learning\\sign detect\\TFODCourse\\Tensorflow\\workspace\\images\\collectedimages\\livelong\\livelong.b001f2c5-8e68-11ec-9cca-f8b156ab036e.jpg -> Annotation:E:/python/Deep Learning/sign detect/TFODCourse/Tensorflow/workspace/images/collectedimages/livelong/livelong.b001f2c5-8e68-11ec-9cca-f8b156ab036e.xml\n",
      "Image:E:\\python\\Deep Learning\\sign detect\\TFODCourse\\Tensorflow\\workspace\\images\\collectedimages\\livelong\\livelong.b133cfdb-8e68-11ec-b1a5-f8b156ab036e.jpg -> Annotation:E:/python/Deep Learning/sign detect/TFODCourse/Tensorflow/workspace/images/collectedimages/livelong/livelong.b133cfdb-8e68-11ec-b1a5-f8b156ab036e.xml\n",
      "Image:E:\\python\\Deep Learning\\sign detect\\TFODCourse\\Tensorflow\\workspace\\images\\collectedimages\\thankyou\\thankyou.7861f533-8e68-11ec-b5ef-f8b156ab036e.jpg -> Annotation:E:/python/Deep Learning/sign detect/TFODCourse/Tensorflow/workspace/images/collectedimages/thankyou/thankyou.7861f533-8e68-11ec-b5ef-f8b156ab036e.xml\n",
      "Image:E:\\python\\Deep Learning\\sign detect\\TFODCourse\\Tensorflow\\workspace\\images\\collectedimages\\thankyou\\thankyou.77301abf-8e68-11ec-88d6-f8b156ab036e.jpg -> Annotation:E:/python/Deep Learning/sign detect/TFODCourse/Tensorflow/workspace/images/collectedimages/thankyou/thankyou.77301abf-8e68-11ec-88d6-f8b156ab036e.xml\n",
      "Image:E:\\python\\Deep Learning\\sign detect\\TFODCourse\\Tensorflow\\workspace\\images\\collectedimages\\thankyou\\thankyou.a5c14e30-8e68-11ec-8887-f8b156ab036e.jpg -> Annotation:E:/python/Deep Learning/sign detect/TFODCourse/Tensorflow/workspace/images/collectedimages/thankyou/thankyou.a5c14e30-8e68-11ec-8887-f8b156ab036e.xml\n",
      "Image:E:\\python\\Deep Learning\\sign detect\\TFODCourse\\Tensorflow\\workspace\\images\\collectedimages\\thankyou\\thankyou.a6f56d66-8e68-11ec-8c60-f8b156ab036e.jpg -> Annotation:E:/python/Deep Learning/sign detect/TFODCourse/Tensorflow/workspace/images/collectedimages/thankyou/thankyou.a6f56d66-8e68-11ec-8c60-f8b156ab036e.xml\n",
      "Image:E:\\python\\Deep Learning\\sign detect\\TFODCourse\\Tensorflow\\workspace\\images\\collectedimages\\thankyou\\thankyou.a48c437a-8e68-11ec-a016-f8b156ab036e.jpg -> Annotation:E:/python/Deep Learning/sign detect/TFODCourse/Tensorflow/workspace/images/collectedimages/thankyou/thankyou.a48c437a-8e68-11ec-a016-f8b156ab036e.xml\n",
      "Image:E:\\python\\Deep Learning\\sign detect\\TFODCourse\\Tensorflow\\workspace\\images\\collectedimages\\thankyou\\thankyou.a827676e-8e68-11ec-8240-f8b156ab036e.jpg -> Annotation:E:/python/Deep Learning/sign detect/TFODCourse/Tensorflow/workspace/images/collectedimages/thankyou/thankyou.a827676e-8e68-11ec-8240-f8b156ab036e.xml\n",
      "Image:E:\\python\\Deep Learning\\sign detect\\TFODCourse\\Tensorflow\\workspace\\images\\collectedimages\\thumbsdown\\thumbsdown.6cec187e-8e68-11ec-b026-f8b156ab036e.jpg -> Annotation:E:/python/Deep Learning/sign detect/TFODCourse/Tensorflow/workspace/images/collectedimages/thumbsdown/thumbsdown.6cec187e-8e68-11ec-b026-f8b156ab036e.xml\n",
      "Image:E:\\python\\Deep Learning\\sign detect\\TFODCourse\\Tensorflow\\workspace\\images\\collectedimages\\thumbsdown\\thumbsdown.6e21a7ff-8e68-11ec-a5de-f8b156ab036e.jpg -> Annotation:E:/python/Deep Learning/sign detect/TFODCourse/Tensorflow/workspace/images/collectedimages/thumbsdown/thumbsdown.6e21a7ff-8e68-11ec-a5de-f8b156ab036e.xml\n",
      "Image:E:\\python\\Deep Learning\\sign detect\\TFODCourse\\Tensorflow\\workspace\\images\\collectedimages\\thumbsdown\\thumbsdown.6f54be84-8e68-11ec-a7e5-f8b156ab036e.jpg -> Annotation:E:/python/Deep Learning/sign detect/TFODCourse/Tensorflow/workspace/images/collectedimages/thumbsdown/thumbsdown.6f54be84-8e68-11ec-a7e5-f8b156ab036e.xml\n",
      "Image:E:\\python\\Deep Learning\\sign detect\\TFODCourse\\Tensorflow\\workspace\\images\\collectedimages\\thumbsdown\\thumbsdown.9cb1d342-8e68-11ec-ac06-f8b156ab036e.jpg -> Annotation:E:/python/Deep Learning/sign detect/TFODCourse/Tensorflow/workspace/images/collectedimages/thumbsdown/thumbsdown.9cb1d342-8e68-11ec-ac06-f8b156ab036e.xml\n",
      "Image:E:\\python\\Deep Learning\\sign detect\\TFODCourse\\Tensorflow\\workspace\\images\\collectedimages\\thumbsdown\\thumbsdown.9de62a00-8e68-11ec-983f-f8b156ab036e.jpg -> Annotation:E:/python/Deep Learning/sign detect/TFODCourse/Tensorflow/workspace/images/collectedimages/thumbsdown/thumbsdown.9de62a00-8e68-11ec-983f-f8b156ab036e.xml\n",
      "Image:E:\\python\\Deep Learning\\sign detect\\TFODCourse\\Tensorflow\\workspace\\images\\collectedimages\\thumbsdown\\thumbsdown.9f1b9ea6-8e68-11ec-a651-f8b156ab036e.jpg -> Annotation:E:/python/Deep Learning/sign detect/TFODCourse/Tensorflow/workspace/images/collectedimages/thumbsdown/thumbsdown.9f1b9ea6-8e68-11ec-a651-f8b156ab036e.xml\n",
      "Image:E:\\python\\Deep Learning\\sign detect\\TFODCourse\\Tensorflow\\workspace\\images\\collectedimages\\thumbsup\\thumbsup.93a434f8-8e68-11ec-8c42-f8b156ab036e.jpg -> Annotation:E:/python/Deep Learning/sign detect/TFODCourse/Tensorflow/workspace/images/collectedimages/thumbsup/thumbsup.93a434f8-8e68-11ec-8c42-f8b156ab036e.xml\n",
      "Image:E:\\python\\Deep Learning\\sign detect\\TFODCourse\\Tensorflow\\workspace\\images\\collectedimages\\thumbsup\\thumbsup.926ed51b-8e68-11ec-b5d5-f8b156ab036e.jpg -> Annotation:E:/python/Deep Learning/sign detect/TFODCourse/Tensorflow/workspace/images/collectedimages/thumbsup/thumbsup.926ed51b-8e68-11ec-b5d5-f8b156ab036e.xml\n",
      "Image:E:\\python\\Deep Learning\\sign detect\\TFODCourse\\Tensorflow\\workspace\\images\\collectedimages\\thumbsup\\thumbsup.960c861a-8e68-11ec-af52-f8b156ab036e.jpg -> Annotation:E:/python/Deep Learning/sign detect/TFODCourse/Tensorflow/workspace/images/collectedimages/thumbsup/thumbsup.960c861a-8e68-11ec-af52-f8b156ab036e.xml\n",
      "Image:E:\\python\\Deep Learning\\sign detect\\TFODCourse\\Tensorflow\\workspace\\images\\collectedimages\\thumbsup\\thumbsup.66431a4e-8e68-11ec-a086-f8b156ab036e.jpg -> Annotation:E:/python/Deep Learning/sign detect/TFODCourse/Tensorflow/workspace/images/collectedimages/thumbsup/thumbsup.66431a4e-8e68-11ec-a086-f8b156ab036e.xml\n",
      "Image:E:\\python\\Deep Learning\\sign detect\\TFODCourse\\Tensorflow\\workspace\\images\\collectedimages\\thumbsup\\thumbsup.f9cc0624-8e68-11ec-b2bf-f8b156ab036e.jpg -> Annotation:E:/python/Deep Learning/sign detect/TFODCourse/Tensorflow/workspace/images/collectedimages/thumbsup/thumbsup.f9cc0624-8e68-11ec-b2bf-f8b156ab036e.xml\n",
      "Image:E:\\python\\Deep Learning\\sign detect\\TFODCourse\\Tensorflow\\workspace\\images\\collectedimages\\thumbsup\\thumbsup.f762d15e-8e68-11ec-b00a-f8b156ab036e.jpg -> Annotation:E:/python/Deep Learning/sign detect/TFODCourse/Tensorflow/workspace/images/collectedimages/thumbsup/thumbsup.f762d15e-8e68-11ec-b00a-f8b156ab036e.xml\n",
      "Image:E:\\python\\Deep Learning\\sign detect\\TFODCourse\\Tensorflow\\workspace\\images\\collectedimages\\thumbsup\\thumbsup.f897d3eb-8e68-11ec-a245-f8b156ab036e.jpg -> Annotation:E:/python/Deep Learning/sign detect/TFODCourse/Tensorflow/workspace/images/collectedimages/thumbsup/thumbsup.f897d3eb-8e68-11ec-a245-f8b156ab036e.xml\n",
      "Image:E:\\python\\Deep Learning\\sign detect\\TFODCourse\\Tensorflow\\workspace\\images\\collectedimages\\thumbsup\\thumbsup.faffffdc-8e68-11ec-850c-f8b156ab036e.jpg -> Annotation:E:/python/Deep Learning/sign detect/TFODCourse/Tensorflow/workspace/images/collectedimages/thumbsup/thumbsup.faffffdc-8e68-11ec-850c-f8b156ab036e.xml\n"
     ]
    },
    {
     "name": "stderr",
     "output_type": "stream",
     "text": [
      "E:\\python\\Deep Learning\\sign detect\\TFODCourse\\Tensorflow\\labelimg\\labelImg.py:5: DeprecationWarning: The distutils package is deprecated and slated for removal in Python 3.12. Use setuptools or check PEP 632 for potential alternatives\n",
      "  import distutils.spawn\n"
     ]
    }
   ],
   "source": [
    "!cd {LABELIMG_PATH} && python labelImg.py"
   ]
  },
  {
   "cell_type": "markdown",
   "metadata": {},
   "source": [
    "# 6. Move them into a Training and Testing Partition"
   ]
  },
  {
   "cell_type": "markdown",
   "metadata": {},
   "source": [
    "# OPTIONAL - 7. Compress them for Colab Training"
   ]
  },
  {
   "cell_type": "code",
   "execution_count": 5,
   "metadata": {},
   "outputs": [],
   "source": [
    "TRAIN_PATH = os.path.join('Tensorflow', 'workspace', 'images', 'train')\n",
    "TEST_PATH = os.path.join('Tensorflow', 'workspace', 'images', 'test')\n",
    "ARCHIVE_PATH = os.path.join('Tensorflow', 'workspace', 'images', 'archive.tar.gz')"
   ]
  },
  {
   "cell_type": "code",
   "execution_count": 6,
   "metadata": {},
   "outputs": [],
   "source": [
    "!tar -czf {ARCHIVE_PATH} {TRAIN_PATH} {TEST_PATH}"
   ]
  },
  {
   "cell_type": "code",
   "execution_count": null,
   "metadata": {},
   "outputs": [],
   "source": []
  }
 ],
 "metadata": {
  "kernelspec": {
   "display_name": "tfod",
   "language": "python",
   "name": "tfod"
  },
  "language_info": {
   "codemirror_mode": {
    "name": "ipython",
    "version": 3
   },
   "file_extension": ".py",
   "mimetype": "text/x-python",
   "name": "python",
   "nbconvert_exporter": "python",
   "pygments_lexer": "ipython3",
   "version": "3.10.1"
  }
 },
 "nbformat": 4,
 "nbformat_minor": 2
}
